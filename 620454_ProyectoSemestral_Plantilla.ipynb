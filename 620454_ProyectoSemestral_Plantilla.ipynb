{
  "cells": [
    {
      "cell_type": "markdown",
      "metadata": {
        "id": "Z2PYoE7QuI0x"
      },
      "source": [
        "# Proyecto Semestral"
      ]
    },
    {
      "cell_type": "markdown",
      "metadata": {
        "id": "MYnA5S0d1lfe"
      },
      "source": [
        "![](https://www.googleapis.com/download/storage/v1/b/kaggle-user-content/o/inbox%2F4895752%2F391fac1718d81b6c7cf0b53eb231d562%2Finbox_4895752_5e4735cb769c6be5f5872a052d0007e2_841520521_preview_20170113163124_2.jpg?generation=1597574096430659&alt=media)"
      ]
    },
    {
      "cell_type": "markdown",
      "metadata": {
        "id": "JxcQkNyRucQs"
      },
      "source": [
        "## Integrantes\n",
        "\n",
        "+ Ignacio Pardo Terán\n",
        "+ Nombre integrante 2"
      ]
    },
    {
      "cell_type": "markdown",
      "metadata": {
        "id": "mZ35NAHavIHa"
      },
      "source": [
        "## Entrega 1"
      ]
    },
    {
      "cell_type": "markdown",
      "metadata": {
        "id": "ro-1ruchuRyL"
      },
      "source": [
        "### Carga data"
      ]
    },
    {
      "cell_type": "code",
      "execution_count": 1,
      "metadata": {
        "colab": {
          "base_uri": "https://localhost:8080/"
        },
        "id": "lcbdhcse05O2",
        "outputId": "c22ca259-19de-4ce1-9bbf-05a13572c9c8"
      },
      "outputs": [
        {
          "output_type": "stream",
          "name": "stdout",
          "text": [
            "--2023-10-05 04:34:54--  https://www.dropbox.com/s/sst1u94436vqca6/demo_round_traces.csv\n",
            "Resolving www.dropbox.com (www.dropbox.com)... 162.125.5.18, 2620:100:601d:18::a27d:512\n",
            "Connecting to www.dropbox.com (www.dropbox.com)|162.125.5.18|:443... connected.\n",
            "HTTP request sent, awaiting response... 302 Found\n",
            "Location: /s/raw/sst1u94436vqca6/demo_round_traces.csv [following]\n",
            "--2023-10-05 04:34:54--  https://www.dropbox.com/s/raw/sst1u94436vqca6/demo_round_traces.csv\n",
            "Reusing existing connection to www.dropbox.com:443.\n",
            "HTTP request sent, awaiting response... 302 Found\n",
            "Location: https://uc6fe3f2c19d93e6dc10f7fc59a4.dl.dropboxusercontent.com/cd/0/inline/CFAPCKx9uZnChVmjNPZMEyEoCO-sqxMtB4x9juhxJhZT886u6d0fgEZygzzJac4AH8B2-9w1amQbcbQsh0DzxEqwzxAYVX-bHH608Cv-EO4BBmoosWa3px3CMHtwXwfVl1BYvRYCbgtTyiXgqGQ3f9e2/file# [following]\n",
            "--2023-10-05 04:34:55--  https://uc6fe3f2c19d93e6dc10f7fc59a4.dl.dropboxusercontent.com/cd/0/inline/CFAPCKx9uZnChVmjNPZMEyEoCO-sqxMtB4x9juhxJhZT886u6d0fgEZygzzJac4AH8B2-9w1amQbcbQsh0DzxEqwzxAYVX-bHH608Cv-EO4BBmoosWa3px3CMHtwXwfVl1BYvRYCbgtTyiXgqGQ3f9e2/file\n",
            "Resolving uc6fe3f2c19d93e6dc10f7fc59a4.dl.dropboxusercontent.com (uc6fe3f2c19d93e6dc10f7fc59a4.dl.dropboxusercontent.com)... 162.125.5.15, 2620:100:601d:15::a27d:50f\n",
            "Connecting to uc6fe3f2c19d93e6dc10f7fc59a4.dl.dropboxusercontent.com (uc6fe3f2c19d93e6dc10f7fc59a4.dl.dropboxusercontent.com)|162.125.5.15|:443... connected.\n",
            "HTTP request sent, awaiting response... 200 OK\n",
            "Length: 21482809 (20M) [text/plain]\n",
            "Saving to: ‘demo_round_traces.csv’\n",
            "\n",
            "demo_round_traces.c 100%[===================>]  20.49M  36.5MB/s    in 0.6s    \n",
            "\n",
            "2023-10-05 04:34:56 (36.5 MB/s) - ‘demo_round_traces.csv’ saved [21482809/21482809]\n",
            "\n"
          ]
        }
      ],
      "source": [
        "!wget https://www.dropbox.com/s/sst1u94436vqca6/demo_round_traces.csv"
      ]
    },
    {
      "cell_type": "markdown",
      "metadata": {
        "id": "tVSZ32vF3_Dh"
      },
      "source": [
        "### Descripción de la data\n",
        "\n",
        "+ Map: Nombre del Mapa donde se jugó la partida\n",
        "+ Team: Nombre de equipo al que pertenece el jugador\n",
        "+ MatchId: Identificador de la partida\n",
        "+ RoundId: Identificador de la ronda (los equipos se enfrentan en rondas de 5 partidas seguidas)\n",
        "+ SteamID: Identificador único del jugador\n",
        "+ MatchId: Identificador de la partida\n",
        "+ MatchWinner: Indica si el jugador ganó o no la partida.\n",
        "+ RoundWinner: Indica si el jugador ganó o no la ronda analizada.\n",
        "+ Survived: Indica si el jugador sobrevivió o no a la partida (sobrevivir no es sinónimo de ganar).\n",
        "+ AbnormalMatch: Indica si la partida tuvo un error por conexión de red\n",
        "+ TimeAlive: Indica el tiempo en segundos que el jugador estuvo vivo durante el juego\n",
        "+ ScaledTimeAlive: Tiempo de vida del jugador escalado al tiempo de vida del jugador que más duró en la ronda.\n",
        "+ AvgCentroidDistance: Distancia promedio del jugador al centroide del equipo.\n",
        "+ TravelledDistance: Distancia promedio viajada por el jugador durante la partida.\n",
        "+ AvgSiteDistance: Distancia promedio del jugador al objetivo más cercano.\n",
        "+ AvgRoundVelocity: Velocidad promedio del jugador en la ronda.\n",
        "+ AvgKillDistance: Distancia promedio viajada por el jugador antes de su primer kill.\n",
        "+ RLethalGrenadesThrown/RNonLethalGrenadesThrown: Cantidad de granadas lanzadas, categorizadas en letales\n",
        "y no-letales.\n",
        "+ PrimaryXXXX: Porcentaje de uso arma clasificada como primaria. Categorizada en AssaultRifle, SniperRifle, SMG,\n",
        "Heavy y Pistol.\n",
        "+ [Match|Round] Assists: Cantidad de asistencias efectuadas por el jugador durante la partida o la ronda.\n",
        "[Match|Round]Kills: Cantidad de kills efectuados por el jugador durante la partida o la ronda.\n",
        "+ [Match|Round] FlankKills: Cantidad de kills efectuados por el jugador sin que la víctima lo viese durante la\n",
        "partida o la ronda.\n",
        "+ [Match|Round] HeadShots: Cantidad de kills efectuados por el jugador a través de un tiro en la cabeza durante\n",
        "la partida o la ronda.\n",
        "+ RoundStartingEquipmentValue: Valor del equipamiento llevado por el jugador al inicio de la ronda.\n",
        "+ TeamStartingEquipmentValue: Valor promedio del equipamiento llevado por el equipo del jugador al inicio de\n",
        "la ronda.\n",
        "+ AvgMatchKillDist: Distancia promedio viajada por el jugador entre kills."
      ]
    },
    {
      "cell_type": "markdown",
      "metadata": {
        "id": "xESW1I0Juo2D"
      },
      "source": [
        "### Entendiendo los datos"
      ]
    },
    {
      "cell_type": "markdown",
      "metadata": {
        "id": "WfaqFFf7wgf6"
      },
      "source": [
        "Definición de  preguntas  que ayudan  a  conocer  el conjunto de datos:\n",
        "\n",
        "+ Pregunta 1: ¿Existe alguna correlación entre el tipo de arma primaria utilizada por los jugadores (categorizada en AssaultRifle, SniperRifle, SMG, Heavy y Pistol) y la cantidad de kills efectuados durante la partida, considerando también el tiempo de vida del jugador?\n",
        "\n",
        "+ Pregunta 2: ¿Influye el valor del equipamiento llevado por el jugador al inicio de la ronda y el valor promedio del equipamiento llevado por su equipo en la cantidad de asistencias que el jugador realiza durante la partida?\n",
        "\n",
        "+ Pregunta 3: ¿Existe alguna relación entre el tiempo que un jugador estuvo vivo durante el juego (TimeAlive) y la cantidad de kills efectuados por disparos en la cabeza (HeadShots), considerando el tipo de mapa en el que se jugó la partida?\n",
        "\n",
        "+ Pregunta 4: ¿Hay alguna diferencia significativa en la cantidad de kills efectuados por los jugadores en partidas donde hubo errores de conexión de red (AbnormalMatch) en comparación con partidas sin errores, considerando también el tiempo que el jugador se encontró vivo (TimeAlive)?"
      ]
    },
    {
      "cell_type": "code",
      "source": [
        "#Importar librerias\n",
        "import pandas as pd\n",
        "import numpy as np\n",
        "import matplotlib.pyplot as plt\n",
        "import seaborn as sns\n",
        "from scipy.stats import iqr"
      ],
      "metadata": {
        "id": "aShZFfahx96n"
      },
      "execution_count": 9,
      "outputs": []
    },
    {
      "cell_type": "code",
      "source": [
        "# Carga y visualización del dataset\n",
        "data_frame = pd.read_csv(\"demo_round_traces.csv\")\n",
        "\n",
        "data_frame"
      ],
      "metadata": {
        "colab": {
          "base_uri": "https://localhost:8080/",
          "height": 443
        },
        "id": "rXUfXjwR-xeP",
        "outputId": "b6222cb1-e277-4bfe-d280-4f774569d475"
      },
      "execution_count": 52,
      "outputs": [
        {
          "output_type": "execute_result",
          "data": {
            "text/plain": [
              "      ;Map;Team;InternalTeamId;MatchId;RoundId;SteamId;RoundWinner;MatchWinner;Survived;AbnormalMatch;TimeAlive;ScaledTimeAlive;AvgCentroidDistance;TravelledDistance;AvgRoundVelocity;AvgKillDistance;AvgSiteDistance;RLethalGrenadesThrown;RNonLethalGrenadesThrown;PrimaryAssaultRifle;PrimarySniperRifle;PrimaryHeavy;PrimarySMG;PrimaryPistol;FirstKillTime;RoundKills;RoundAssists;RoundHeadshots;RoundFlankKills;RoundStartingEquipmentValue;TeamStartingEquipmentValue;MatchKills;MatchFlankKills;MatchAssists;MatchHeadshots;AvgMatchKillDist\n",
              "0      600;de_inferno;Terrorist;1;4;1;765611980369877...                                                                                                                                                                                                                                                                                                                                                                                                                                                                                              \n",
              "1      601;de_inferno;Terrorist;1;4;1;765611979718122...                                                                                                                                                                                                                                                                                                                                                                                                                                                                                              \n",
              "2      602;de_inferno;Terrorist;1;4;1;765611979722406...                                                                                                                                                                                                                                                                                                                                                                                                                                                                                              \n",
              "3      603;de_inferno;Terrorist;1;4;1;765611979758249...                                                                                                                                                                                                                                                                                                                                                                                                                                                                                              \n",
              "4      604;de_inferno;Terrorist;1;4;1;765611979603310...                                                                                                                                                                                                                                                                                                                                                                                                                                                                                              \n",
              "...                                                  ...                                                                                                                                                                                                                                                                                                                                                                                                                                                                                              \n",
              "79152  123775;de_mirage;CounterTerrorist;2;511;5;7656...                                                                                                                                                                                                                                                                                                                                                                                                                                                                                              \n",
              "79153  123776;de_mirage;CounterTerrorist;2;511;5;7656...                                                                                                                                                                                                                                                                                                                                                                                                                                                                                              \n",
              "79154  123777;de_mirage;CounterTerrorist;2;511;5;7656...                                                                                                                                                                                                                                                                                                                                                                                                                                                                                              \n",
              "79155  123778;de_mirage;CounterTerrorist;2;511;5;7656...                                                                                                                                                                                                                                                                                                                                                                                                                                                                                              \n",
              "79156  123779;de_mirage;CounterTerrorist;2;511;5;7656...                                                                                                                                                                                                                                                                                                                                                                                                                                                                                              \n",
              "\n",
              "[79157 rows x 1 columns]"
            ],
            "text/html": [
              "\n",
              "  <div id=\"df-ecf05bb6-2d88-4369-9fe5-9ff1305a347c\" class=\"colab-df-container\">\n",
              "    <div>\n",
              "<style scoped>\n",
              "    .dataframe tbody tr th:only-of-type {\n",
              "        vertical-align: middle;\n",
              "    }\n",
              "\n",
              "    .dataframe tbody tr th {\n",
              "        vertical-align: top;\n",
              "    }\n",
              "\n",
              "    .dataframe thead th {\n",
              "        text-align: right;\n",
              "    }\n",
              "</style>\n",
              "<table border=\"1\" class=\"dataframe\">\n",
              "  <thead>\n",
              "    <tr style=\"text-align: right;\">\n",
              "      <th></th>\n",
              "      <th>;Map;Team;InternalTeamId;MatchId;RoundId;SteamId;RoundWinner;MatchWinner;Survived;AbnormalMatch;TimeAlive;ScaledTimeAlive;AvgCentroidDistance;TravelledDistance;AvgRoundVelocity;AvgKillDistance;AvgSiteDistance;RLethalGrenadesThrown;RNonLethalGrenadesThrown;PrimaryAssaultRifle;PrimarySniperRifle;PrimaryHeavy;PrimarySMG;PrimaryPistol;FirstKillTime;RoundKills;RoundAssists;RoundHeadshots;RoundFlankKills;RoundStartingEquipmentValue;TeamStartingEquipmentValue;MatchKills;MatchFlankKills;MatchAssists;MatchHeadshots;AvgMatchKillDist</th>\n",
              "    </tr>\n",
              "  </thead>\n",
              "  <tbody>\n",
              "    <tr>\n",
              "      <th>0</th>\n",
              "      <td>600;de_inferno;Terrorist;1;4;1;765611980369877...</td>\n",
              "    </tr>\n",
              "    <tr>\n",
              "      <th>1</th>\n",
              "      <td>601;de_inferno;Terrorist;1;4;1;765611979718122...</td>\n",
              "    </tr>\n",
              "    <tr>\n",
              "      <th>2</th>\n",
              "      <td>602;de_inferno;Terrorist;1;4;1;765611979722406...</td>\n",
              "    </tr>\n",
              "    <tr>\n",
              "      <th>3</th>\n",
              "      <td>603;de_inferno;Terrorist;1;4;1;765611979758249...</td>\n",
              "    </tr>\n",
              "    <tr>\n",
              "      <th>4</th>\n",
              "      <td>604;de_inferno;Terrorist;1;4;1;765611979603310...</td>\n",
              "    </tr>\n",
              "    <tr>\n",
              "      <th>...</th>\n",
              "      <td>...</td>\n",
              "    </tr>\n",
              "    <tr>\n",
              "      <th>79152</th>\n",
              "      <td>123775;de_mirage;CounterTerrorist;2;511;5;7656...</td>\n",
              "    </tr>\n",
              "    <tr>\n",
              "      <th>79153</th>\n",
              "      <td>123776;de_mirage;CounterTerrorist;2;511;5;7656...</td>\n",
              "    </tr>\n",
              "    <tr>\n",
              "      <th>79154</th>\n",
              "      <td>123777;de_mirage;CounterTerrorist;2;511;5;7656...</td>\n",
              "    </tr>\n",
              "    <tr>\n",
              "      <th>79155</th>\n",
              "      <td>123778;de_mirage;CounterTerrorist;2;511;5;7656...</td>\n",
              "    </tr>\n",
              "    <tr>\n",
              "      <th>79156</th>\n",
              "      <td>123779;de_mirage;CounterTerrorist;2;511;5;7656...</td>\n",
              "    </tr>\n",
              "  </tbody>\n",
              "</table>\n",
              "<p>79157 rows × 1 columns</p>\n",
              "</div>\n",
              "    <div class=\"colab-df-buttons\">\n",
              "\n",
              "  <div class=\"colab-df-container\">\n",
              "    <button class=\"colab-df-convert\" onclick=\"convertToInteractive('df-ecf05bb6-2d88-4369-9fe5-9ff1305a347c')\"\n",
              "            title=\"Convert this dataframe to an interactive table.\"\n",
              "            style=\"display:none;\">\n",
              "\n",
              "  <svg xmlns=\"http://www.w3.org/2000/svg\" height=\"24px\" viewBox=\"0 -960 960 960\">\n",
              "    <path d=\"M120-120v-720h720v720H120Zm60-500h600v-160H180v160Zm220 220h160v-160H400v160Zm0 220h160v-160H400v160ZM180-400h160v-160H180v160Zm440 0h160v-160H620v160ZM180-180h160v-160H180v160Zm440 0h160v-160H620v160Z\"/>\n",
              "  </svg>\n",
              "    </button>\n",
              "\n",
              "  <style>\n",
              "    .colab-df-container {\n",
              "      display:flex;\n",
              "      gap: 12px;\n",
              "    }\n",
              "\n",
              "    .colab-df-convert {\n",
              "      background-color: #E8F0FE;\n",
              "      border: none;\n",
              "      border-radius: 50%;\n",
              "      cursor: pointer;\n",
              "      display: none;\n",
              "      fill: #1967D2;\n",
              "      height: 32px;\n",
              "      padding: 0 0 0 0;\n",
              "      width: 32px;\n",
              "    }\n",
              "\n",
              "    .colab-df-convert:hover {\n",
              "      background-color: #E2EBFA;\n",
              "      box-shadow: 0px 1px 2px rgba(60, 64, 67, 0.3), 0px 1px 3px 1px rgba(60, 64, 67, 0.15);\n",
              "      fill: #174EA6;\n",
              "    }\n",
              "\n",
              "    .colab-df-buttons div {\n",
              "      margin-bottom: 4px;\n",
              "    }\n",
              "\n",
              "    [theme=dark] .colab-df-convert {\n",
              "      background-color: #3B4455;\n",
              "      fill: #D2E3FC;\n",
              "    }\n",
              "\n",
              "    [theme=dark] .colab-df-convert:hover {\n",
              "      background-color: #434B5C;\n",
              "      box-shadow: 0px 1px 3px 1px rgba(0, 0, 0, 0.15);\n",
              "      filter: drop-shadow(0px 1px 2px rgba(0, 0, 0, 0.3));\n",
              "      fill: #FFFFFF;\n",
              "    }\n",
              "  </style>\n",
              "\n",
              "    <script>\n",
              "      const buttonEl =\n",
              "        document.querySelector('#df-ecf05bb6-2d88-4369-9fe5-9ff1305a347c button.colab-df-convert');\n",
              "      buttonEl.style.display =\n",
              "        google.colab.kernel.accessAllowed ? 'block' : 'none';\n",
              "\n",
              "      async function convertToInteractive(key) {\n",
              "        const element = document.querySelector('#df-ecf05bb6-2d88-4369-9fe5-9ff1305a347c');\n",
              "        const dataTable =\n",
              "          await google.colab.kernel.invokeFunction('convertToInteractive',\n",
              "                                                    [key], {});\n",
              "        if (!dataTable) return;\n",
              "\n",
              "        const docLinkHtml = 'Like what you see? Visit the ' +\n",
              "          '<a target=\"_blank\" href=https://colab.research.google.com/notebooks/data_table.ipynb>data table notebook</a>'\n",
              "          + ' to learn more about interactive tables.';\n",
              "        element.innerHTML = '';\n",
              "        dataTable['output_type'] = 'display_data';\n",
              "        await google.colab.output.renderOutput(dataTable, element);\n",
              "        const docLink = document.createElement('div');\n",
              "        docLink.innerHTML = docLinkHtml;\n",
              "        element.appendChild(docLink);\n",
              "      }\n",
              "    </script>\n",
              "  </div>\n",
              "\n",
              "\n",
              "<div id=\"df-e10aeabe-c0ee-4841-b62c-50d6a90e35df\">\n",
              "  <button class=\"colab-df-quickchart\" onclick=\"quickchart('df-e10aeabe-c0ee-4841-b62c-50d6a90e35df')\"\n",
              "            title=\"Suggest charts.\"\n",
              "            style=\"display:none;\">\n",
              "\n",
              "<svg xmlns=\"http://www.w3.org/2000/svg\" height=\"24px\"viewBox=\"0 0 24 24\"\n",
              "     width=\"24px\">\n",
              "    <g>\n",
              "        <path d=\"M19 3H5c-1.1 0-2 .9-2 2v14c0 1.1.9 2 2 2h14c1.1 0 2-.9 2-2V5c0-1.1-.9-2-2-2zM9 17H7v-7h2v7zm4 0h-2V7h2v10zm4 0h-2v-4h2v4z\"/>\n",
              "    </g>\n",
              "</svg>\n",
              "  </button>\n",
              "\n",
              "<style>\n",
              "  .colab-df-quickchart {\n",
              "      --bg-color: #E8F0FE;\n",
              "      --fill-color: #1967D2;\n",
              "      --hover-bg-color: #E2EBFA;\n",
              "      --hover-fill-color: #174EA6;\n",
              "      --disabled-fill-color: #AAA;\n",
              "      --disabled-bg-color: #DDD;\n",
              "  }\n",
              "\n",
              "  [theme=dark] .colab-df-quickchart {\n",
              "      --bg-color: #3B4455;\n",
              "      --fill-color: #D2E3FC;\n",
              "      --hover-bg-color: #434B5C;\n",
              "      --hover-fill-color: #FFFFFF;\n",
              "      --disabled-bg-color: #3B4455;\n",
              "      --disabled-fill-color: #666;\n",
              "  }\n",
              "\n",
              "  .colab-df-quickchart {\n",
              "    background-color: var(--bg-color);\n",
              "    border: none;\n",
              "    border-radius: 50%;\n",
              "    cursor: pointer;\n",
              "    display: none;\n",
              "    fill: var(--fill-color);\n",
              "    height: 32px;\n",
              "    padding: 0;\n",
              "    width: 32px;\n",
              "  }\n",
              "\n",
              "  .colab-df-quickchart:hover {\n",
              "    background-color: var(--hover-bg-color);\n",
              "    box-shadow: 0 1px 2px rgba(60, 64, 67, 0.3), 0 1px 3px 1px rgba(60, 64, 67, 0.15);\n",
              "    fill: var(--button-hover-fill-color);\n",
              "  }\n",
              "\n",
              "  .colab-df-quickchart-complete:disabled,\n",
              "  .colab-df-quickchart-complete:disabled:hover {\n",
              "    background-color: var(--disabled-bg-color);\n",
              "    fill: var(--disabled-fill-color);\n",
              "    box-shadow: none;\n",
              "  }\n",
              "\n",
              "  .colab-df-spinner {\n",
              "    border: 2px solid var(--fill-color);\n",
              "    border-color: transparent;\n",
              "    border-bottom-color: var(--fill-color);\n",
              "    animation:\n",
              "      spin 1s steps(1) infinite;\n",
              "  }\n",
              "\n",
              "  @keyframes spin {\n",
              "    0% {\n",
              "      border-color: transparent;\n",
              "      border-bottom-color: var(--fill-color);\n",
              "      border-left-color: var(--fill-color);\n",
              "    }\n",
              "    20% {\n",
              "      border-color: transparent;\n",
              "      border-left-color: var(--fill-color);\n",
              "      border-top-color: var(--fill-color);\n",
              "    }\n",
              "    30% {\n",
              "      border-color: transparent;\n",
              "      border-left-color: var(--fill-color);\n",
              "      border-top-color: var(--fill-color);\n",
              "      border-right-color: var(--fill-color);\n",
              "    }\n",
              "    40% {\n",
              "      border-color: transparent;\n",
              "      border-right-color: var(--fill-color);\n",
              "      border-top-color: var(--fill-color);\n",
              "    }\n",
              "    60% {\n",
              "      border-color: transparent;\n",
              "      border-right-color: var(--fill-color);\n",
              "    }\n",
              "    80% {\n",
              "      border-color: transparent;\n",
              "      border-right-color: var(--fill-color);\n",
              "      border-bottom-color: var(--fill-color);\n",
              "    }\n",
              "    90% {\n",
              "      border-color: transparent;\n",
              "      border-bottom-color: var(--fill-color);\n",
              "    }\n",
              "  }\n",
              "</style>\n",
              "\n",
              "  <script>\n",
              "    async function quickchart(key) {\n",
              "      const quickchartButtonEl =\n",
              "        document.querySelector('#' + key + ' button');\n",
              "      quickchartButtonEl.disabled = true;  // To prevent multiple clicks.\n",
              "      quickchartButtonEl.classList.add('colab-df-spinner');\n",
              "      try {\n",
              "        const charts = await google.colab.kernel.invokeFunction(\n",
              "            'suggestCharts', [key], {});\n",
              "      } catch (error) {\n",
              "        console.error('Error during call to suggestCharts:', error);\n",
              "      }\n",
              "      quickchartButtonEl.classList.remove('colab-df-spinner');\n",
              "      quickchartButtonEl.classList.add('colab-df-quickchart-complete');\n",
              "    }\n",
              "    (() => {\n",
              "      let quickchartButtonEl =\n",
              "        document.querySelector('#df-e10aeabe-c0ee-4841-b62c-50d6a90e35df button');\n",
              "      quickchartButtonEl.style.display =\n",
              "        google.colab.kernel.accessAllowed ? 'block' : 'none';\n",
              "    })();\n",
              "  </script>\n",
              "</div>\n",
              "    </div>\n",
              "  </div>\n"
            ]
          },
          "metadata": {},
          "execution_count": 52
        }
      ]
    },
    {
      "cell_type": "code",
      "source": [
        "# Carga y visualización del dataset\n",
        "data_frame = pd.read_csv(\"demo_round_traces.csv\")\n",
        "\n",
        "# Creación de columnas para dividir el dataset en diferentes secciones\n",
        "nuevas_columnas = data_frame[';Map;Team;InternalTeamId;MatchId;RoundId;SteamId;RoundWinner;MatchWinner;Survived;AbnormalMatch;TimeAlive;ScaledTimeAlive;AvgCentroidDistance;TravelledDistance;AvgRoundVelocity;AvgKillDistance;AvgSiteDistance;RLethalGrenadesThrown;RNonLethalGrenadesThrown;PrimaryAssaultRifle;PrimarySniperRifle;PrimaryHeavy;PrimarySMG;PrimaryPistol;FirstKillTime;RoundKills;RoundAssists;RoundHeadshots;RoundFlankKills;RoundStartingEquipmentValue;TeamStartingEquipmentValue;MatchKills;MatchFlankKills;MatchAssists;MatchHeadshots;AvgMatchKillDist'].str.split(';', expand=True)\n",
        "\n",
        "# Asignar las nuevas columnas al DataFrame original\n",
        "data_frame[['Enumerate', 'Map', 'Team', 'InternalTeamId', 'MatchId', 'RoundId', 'SteamId', 'RoundWinner', 'MatchWinner', 'Survived', 'AbnormalMatch', 'TimeAlive', 'ScaledTimeAlive', 'AvgCentroidDistance', 'TravelledDistance', 'AvgRoundVelocity', 'AvgKillDistance', 'AvgSiteDistance', 'RLethalGrenadesThrown', 'RNonLethalGrenadesThrown', 'PrimaryAssaultRifle', 'PrimarySniperRifle', 'PrimaryHeavy', 'PrimarySMG', 'PrimaryPistol', 'FirstKillTime', 'RoundKills', 'RoundAssists', 'RoundHeadshots', 'RoundFlankKills', 'RoundStartingEquipmentValue', 'TeamStartingEquipmentValue', 'MatchKills', 'MatchFlankKills', 'MatchAssists', 'MatchHeadshots', 'AvgMatchKillDist']] = nuevas_columnas\n",
        "\n",
        "# Eliminar la columna original, que contenia toda la información\n",
        "data_frame = data_frame.drop(columns=[';Map;Team;InternalTeamId;MatchId;RoundId;SteamId;RoundWinner;MatchWinner;Survived;AbnormalMatch;TimeAlive;ScaledTimeAlive;AvgCentroidDistance;TravelledDistance;AvgRoundVelocity;AvgKillDistance;AvgSiteDistance;RLethalGrenadesThrown;RNonLethalGrenadesThrown;PrimaryAssaultRifle;PrimarySniperRifle;PrimaryHeavy;PrimarySMG;PrimaryPistol;FirstKillTime;RoundKills;RoundAssists;RoundHeadshots;RoundFlankKills;RoundStartingEquipmentValue;TeamStartingEquipmentValue;MatchKills;MatchFlankKills;MatchAssists;MatchHeadshots;AvgMatchKillDist'])\n",
        "\n",
        "# Ahora puedes imprimir el DataFrame con las nuevas columnas divididas\n",
        "print(data_frame)\n"
      ],
      "metadata": {
        "colab": {
          "base_uri": "https://localhost:8080/"
        },
        "id": "aGJv1qBRyAj4",
        "outputId": "3d951376-fbdd-4921-8d88-77dedb05a867"
      },
      "execution_count": 56,
      "outputs": [
        {
          "output_type": "stream",
          "name": "stdout",
          "text": [
            "      Enumerate         Map              Team InternalTeamId MatchId RoundId  \\\n",
            "0           600  de_inferno         Terrorist              1       4       1   \n",
            "1           601  de_inferno         Terrorist              1       4       1   \n",
            "2           602  de_inferno         Terrorist              1       4       1   \n",
            "3           603  de_inferno         Terrorist              1       4       1   \n",
            "4           604  de_inferno         Terrorist              1       4       1   \n",
            "...         ...         ...               ...            ...     ...     ...   \n",
            "79152    123775   de_mirage  CounterTerrorist              2     511       5   \n",
            "79153    123776   de_mirage  CounterTerrorist              2     511       5   \n",
            "79154    123777   de_mirage  CounterTerrorist              2     511       5   \n",
            "79155    123778   de_mirage  CounterTerrorist              2     511       5   \n",
            "79156    123779   de_mirage  CounterTerrorist              2     511       5   \n",
            "\n",
            "                 SteamId RoundWinner MatchWinner Survived AbnormalMatch  \\\n",
            "0      76561198036987787       False        True    False         False   \n",
            "1      76561197971812216       False        True    False         False   \n",
            "2      76561197972240652       False        True    False         False   \n",
            "3      76561197975824962       False        True    False         False   \n",
            "4      76561197960331095       False        True     True         False   \n",
            "...                  ...         ...         ...      ...           ...   \n",
            "79152  76561198024905796       False       False    False         False   \n",
            "79153  76561198000020858       False       False    False         False   \n",
            "79154  76561198013485667       False       False    False         False   \n",
            "79155  76561197972003061       False       False    False         False   \n",
            "79156  76561197989744167       False       False     True         False   \n",
            "\n",
            "                TimeAlive     ScaledTimeAlive AvgCentroidDistance  \\\n",
            "0      51.120248995704536  0.9623085983510012   322909.1314761879   \n",
            "1       43.48662552266176  0.8186101295641933   547137.4584741468   \n",
            "2       37.35469847054542  0.7031802120141343                 0.0   \n",
            "3       47.67886136441478  0.8975265017667845   768923.1796415595   \n",
            "4       53.12251089027314                 1.0  202397.44677482636   \n",
            "...                   ...                 ...                 ...   \n",
            "79152    34.0272074099723  0.4250854075158613                 0.0   \n",
            "79153   29.26105436288089   0.365544167886774                 0.0   \n",
            "79154   59.14717797783933  0.7388970229380186  2279623.8603874217   \n",
            "79155  42.582842797783925   0.531966813079551  1502696.1034687525   \n",
            "79156   80.04793109418283                 1.0  1846959.8938118638   \n",
            "\n",
            "        TravelledDistance    AvgRoundVelocity     AvgKillDistance  \\\n",
            "0      100831.40737457023  123.56790119432628                 0.0   \n",
            "1      60960.883184688486   87.83988931511308                 0.0   \n",
            "2       56422.52383582751   94.66866415407301                 0.0   \n",
            "3       89634.73313229976  117.78545746688536                 0.0   \n",
            "4      108656.49734393117    128.132661962183                 0.0   \n",
            "...                   ...                 ...                 ...   \n",
            "79152   40481.77852924468  46.530779918672046                 0.0   \n",
            "79153   32134.77612567877   42.96093064930317  109345.36668201628   \n",
            "79154   60051.68938274509     39.690475467776                 0.0   \n",
            "79155  27987.628542398106  25.700301691825622                 0.0   \n",
            "79156   98677.24708696018   48.18224955417978    764092.209992155   \n",
            "\n",
            "          AvgSiteDistance RLethalGrenadesThrown RNonLethalGrenadesThrown  \\\n",
            "0       5988404.520679225                     0                        4   \n",
            "1       5415945.395342906                     0                        0   \n",
            "2       6658032.542218688                     0                        0   \n",
            "3       5364147.115129752                     0                        0   \n",
            "4       4878228.190868257                     1                        1   \n",
            "...                   ...                   ...                      ...   \n",
            "79152  1370954.8249445187                     1                        1   \n",
            "79153  1223142.1145801032                     0                        0   \n",
            "79154    946226.221877878                     1                        1   \n",
            "79155   1218743.265980504                     0                        2   \n",
            "79156   1082910.250676023                     2                        1   \n",
            "\n",
            "      PrimaryAssaultRifle PrimarySniperRifle PrimaryHeavy PrimarySMG  \\\n",
            "0                     0.0                0.0          0.0        0.0   \n",
            "1                     0.0                0.0          0.0        0.0   \n",
            "2                     0.0                0.0          0.0        0.0   \n",
            "3                     0.0                0.0          0.0        0.0   \n",
            "4                     0.0                0.0          0.0        0.0   \n",
            "...                   ...                ...          ...        ...   \n",
            "79152                 1.0                0.0          0.0        0.0   \n",
            "79153                 1.0                0.0          0.0        0.0   \n",
            "79154                 1.0                0.0          0.0        0.0   \n",
            "79155                 0.0                1.0          0.0        0.0   \n",
            "79156                 1.0                0.0          0.0        0.0   \n",
            "\n",
            "      PrimaryPistol FirstKillTime RoundKills RoundAssists RoundHeadshots  \\\n",
            "0                 1           0.0          0            0              0   \n",
            "1                 1           0.0          0            0              0   \n",
            "2                 1           0.0          0            0              0   \n",
            "3                 1           0.0          0            0              0   \n",
            "4                 1           0.0          0            0              0   \n",
            "...             ...           ...        ...          ...            ...   \n",
            "79152             0      22.77596          0            0              0   \n",
            "79153             0     28.714119          1            0              1   \n",
            "79154             0    29.7689228          0            0              0   \n",
            "79155             0      75.28178          0            0              0   \n",
            "79156             0    43.8720474          4            0              2   \n",
            "\n",
            "      RoundFlankKills RoundStartingEquipmentValue TeamStartingEquipmentValue  \\\n",
            "0                   0                         750                       4400   \n",
            "1                   0                         800                       4400   \n",
            "2                   0                        1000                       4400   \n",
            "3                   0                         850                       4400   \n",
            "4                   0                        1000                       4400   \n",
            "...               ...                         ...                        ...   \n",
            "79152               0                        5600                      27100   \n",
            "79153               0                        5500                      27100   \n",
            "79154               0                        4950                      27100   \n",
            "79155               0                        4950                      27100   \n",
            "79156               0                        6100                      27100   \n",
            "\n",
            "      MatchKills MatchFlankKills MatchAssists MatchHeadshots  \\\n",
            "0              0               0            0              0   \n",
            "1              0               0            0              0   \n",
            "2              0               0            0              0   \n",
            "3              0               0            0              0   \n",
            "4              0               0            0              0   \n",
            "...          ...             ...          ...            ...   \n",
            "79152          4               0            2              2   \n",
            "79153          8               5            1              3   \n",
            "79154          5               0            2              3   \n",
            "79155          1               0            1              0   \n",
            "79156          5               1            1              2   \n",
            "\n",
            "         AvgMatchKillDist  \n",
            "0       501379.1830906024  \n",
            "1      208807.58729744065  \n",
            "2       381652.0279110347  \n",
            "3       289754.5030908395  \n",
            "4       254527.6911760721  \n",
            "...                   ...  \n",
            "79152   768003.8788432444  \n",
            "79153   692262.6056397951  \n",
            "79154  161310.78365315773  \n",
            "79155   984575.1993727742  \n",
            "79156   633305.7962307573  \n",
            "\n",
            "[79157 rows x 37 columns]\n"
          ]
        }
      ]
    },
    {
      "cell_type": "code",
      "source": [
        "# Análisis de los tipos de datos\n",
        "data_frame.dtypes"
      ],
      "metadata": {
        "colab": {
          "base_uri": "https://localhost:8080/"
        },
        "id": "31pRI2bNyDnv",
        "outputId": "72ff927b-90a7-48ea-a3a3-e9afac018b60"
      },
      "execution_count": 27,
      "outputs": [
        {
          "output_type": "execute_result",
          "data": {
            "text/plain": [
              ";Map;Team;InternalTeamId;MatchId;RoundId;SteamId;RoundWinner;MatchWinner;Survived;AbnormalMatch;TimeAlive;ScaledTimeAlive;AvgCentroidDistance;TravelledDistance;AvgRoundVelocity;AvgKillDistance;AvgSiteDistance;RLethalGrenadesThrown;RNonLethalGrenadesThrown;PrimaryAssaultRifle;PrimarySniperRifle;PrimaryHeavy;PrimarySMG;PrimaryPistol;FirstKillTime;RoundKills;RoundAssists;RoundHeadshots;RoundFlankKills;RoundStartingEquipmentValue;TeamStartingEquipmentValue;MatchKills;MatchFlankKills;MatchAssists;MatchHeadshots;AvgMatchKillDist    object\n",
              "dtype: object"
            ]
          },
          "metadata": {},
          "execution_count": 27
        }
      ]
    },
    {
      "cell_type": "markdown",
      "metadata": {
        "id": "0wqASFghu4sq"
      },
      "source": [
        "### Preparación de los datos\n"
      ]
    },
    {
      "cell_type": "markdown",
      "source": [],
      "metadata": {
        "id": "AXjWb0FJwpjG"
      }
    },
    {
      "cell_type": "markdown",
      "metadata": {
        "id": "x2FChHvevVrI"
      },
      "source": [
        "## Entrega 2"
      ]
    },
    {
      "cell_type": "markdown",
      "metadata": {
        "id": "JsPleENzvY_n"
      },
      "source": [
        "## Entrega 3"
      ]
    }
  ],
  "metadata": {
    "colab": {
      "provenance": [],
      "toc_visible": true
    },
    "kernelspec": {
      "display_name": "Python 3",
      "name": "python3"
    },
    "language_info": {
      "name": "python"
    }
  },
  "nbformat": 4,
  "nbformat_minor": 0
}