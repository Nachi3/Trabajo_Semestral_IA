{
  "nbformat": 4,
  "nbformat_minor": 0,
  "metadata": {
    "colab": {
      "provenance": [],
      "toc_visible": true
    },
    "kernelspec": {
      "name": "python3",
      "display_name": "Python 3"
    },
    "language_info": {
      "name": "python"
    }
  },
  "cells": [
    {
      "cell_type": "markdown",
      "source": [
        "# Proyecto Semestral"
      ],
      "metadata": {
        "id": "Z2PYoE7QuI0x"
      }
    },
    {
      "cell_type": "markdown",
      "source": [
        "![](https://www.googleapis.com/download/storage/v1/b/kaggle-user-content/o/inbox%2F4895752%2F391fac1718d81b6c7cf0b53eb231d562%2Finbox_4895752_5e4735cb769c6be5f5872a052d0007e2_841520521_preview_20170113163124_2.jpg?generation=1597574096430659&alt=media)"
      ],
      "metadata": {
        "id": "MYnA5S0d1lfe"
      }
    },
    {
      "cell_type": "markdown",
      "source": [
        "## Integrantes\n",
        "\n",
        "+ Nombre integrante 1\n",
        "+ Nombre integrante 2"
      ],
      "metadata": {
        "id": "JxcQkNyRucQs"
      }
    },
    {
      "cell_type": "markdown",
      "source": [
        "## Entrega 1"
      ],
      "metadata": {
        "id": "mZ35NAHavIHa"
      }
    },
    {
      "cell_type": "markdown",
      "source": [
        "### Carga data"
      ],
      "metadata": {
        "id": "ro-1ruchuRyL"
      }
    },
    {
      "cell_type": "code",
      "execution_count": null,
      "metadata": {
        "colab": {
          "base_uri": "https://localhost:8080/"
        },
        "id": "lcbdhcse05O2",
        "outputId": "af698ef7-3fdc-4958-de7a-096e59c11e21"
      },
      "outputs": [
        {
          "output_type": "stream",
          "name": "stdout",
          "text": [
            "--2023-09-24 18:50:16--  https://www.dropbox.com/s/sst1u94436vqca6/demo_round_traces.csv\n",
            "Resolving www.dropbox.com (www.dropbox.com)... 162.125.3.18, 2620:100:6021:18::a27d:4112\n",
            "Connecting to www.dropbox.com (www.dropbox.com)|162.125.3.18|:443... connected.\n",
            "HTTP request sent, awaiting response... 302 Found\n",
            "Location: /s/raw/sst1u94436vqca6/demo_round_traces.csv [following]\n",
            "--2023-09-24 18:50:16--  https://www.dropbox.com/s/raw/sst1u94436vqca6/demo_round_traces.csv\n",
            "Reusing existing connection to www.dropbox.com:443.\n",
            "HTTP request sent, awaiting response... 302 Found\n",
            "Location: https://uc5fd8682ef7276dd4732715f731.dl.dropboxusercontent.com/cd/0/inline/CEU_E2kyeZN8rRi_QArh9VdWXYWCxk_m8ddbEay_Fyxrx4odRq1BpuYQjqWHrA7gvj8APRyJw8yk8FxlAVw6Xy4ve63SShXnSo-UyT4zP9r6OAqmuGQaZQ7tW-FZrV05DqRpbfT9WOvre0QqZzkE3Msf/file# [following]\n",
            "--2023-09-24 18:50:17--  https://uc5fd8682ef7276dd4732715f731.dl.dropboxusercontent.com/cd/0/inline/CEU_E2kyeZN8rRi_QArh9VdWXYWCxk_m8ddbEay_Fyxrx4odRq1BpuYQjqWHrA7gvj8APRyJw8yk8FxlAVw6Xy4ve63SShXnSo-UyT4zP9r6OAqmuGQaZQ7tW-FZrV05DqRpbfT9WOvre0QqZzkE3Msf/file\n",
            "Resolving uc5fd8682ef7276dd4732715f731.dl.dropboxusercontent.com (uc5fd8682ef7276dd4732715f731.dl.dropboxusercontent.com)... 162.125.8.15, 2620:100:601b:15::a27d:80f\n",
            "Connecting to uc5fd8682ef7276dd4732715f731.dl.dropboxusercontent.com (uc5fd8682ef7276dd4732715f731.dl.dropboxusercontent.com)|162.125.8.15|:443... connected.\n",
            "HTTP request sent, awaiting response... 200 OK\n",
            "Length: 21482809 (20M) [text/plain]\n",
            "Saving to: ‘demo_round_traces.csv’\n",
            "\n",
            "demo_round_traces.c 100%[===================>]  20.49M  40.1MB/s    in 0.5s    \n",
            "\n",
            "2023-09-24 18:50:18 (40.1 MB/s) - ‘demo_round_traces.csv’ saved [21482809/21482809]\n",
            "\n"
          ]
        }
      ],
      "source": [
        "!wget https://www.dropbox.com/s/sst1u94436vqca6/demo_round_traces.csv"
      ]
    },
    {
      "cell_type": "markdown",
      "source": [
        "### Descripción de la data\n",
        "\n",
        "+ Map: Nombre del Mapa donde se jugó la partida\n",
        "+ Team: Nombre de equipo al que pertenece el jugador\n",
        "+ MatchId: Identificador de la partida\n",
        "+ RoundId: Identificador de la ronda (los equipos se enfrentan en rondas de 5 partidas seguidas)\n",
        "+ SteamID: Identificador único del jugador\n",
        "+ MatchId: Identificador de la partida\n",
        "+ MatchWinner: Indica si el jugador ganó o no la partida.\n",
        "+ RoundWinner: Indica si el jugador ganó o no la ronda analizada.\n",
        "+ Survived: Indica si el jugador sobrevivió o no a la partida (sobrevivir no es sinónimo de ganar).\n",
        "+ AbnormalMatch: Indica si la partida tuvo un error por conexión de red\n",
        "+ TimeAlive: Indica el tiempo en segundos que el jugador estuvo vivo durante el juego\n",
        "+ ScaledTimeAlive: Tiempo de vida del jugador escalado al tiempo de vida del jugador que más duró en la ronda.\n",
        "+ AvgCentroidDistance: Distancia promedio del jugador al centroide del equipo.\n",
        "+ TravelledDistance: Distancia promedio viajada por el jugador durante la partida.\n",
        "+ AvgSiteDistance: Distancia promedio del jugador al objetivo más cercano.\n",
        "+ AvgRoundVelocity: Velocidad promedio del jugador en la ronda.\n",
        "+ AvgKillDistance: Distancia promedio viajada por el jugador antes de su primer kill.\n",
        "+ RLethalGrenadesThrown/RNonLethalGrenadesThrown: Cantidad de granadas lanzadas, categorizadas en letales\n",
        "y no-letales.\n",
        "+ PrimaryXXXX: Porcentaje de uso arma clasificada como primaria. Categorizada en AssaultRifle, SniperRifle, SMG,\n",
        "Heavy y Pistol.\n",
        "+ [Match|Round] Assists: Cantidad de asistencias efectuadas por el jugador durante la partida o la ronda.\n",
        "[Match|Round]Kills: Cantidad de kills efectuados por el jugador durante la partida o la ronda.\n",
        "+ [Match|Round] FlankKills: Cantidad de kills efectuados por el jugador sin que la víctima lo viese durante la\n",
        "partida o la ronda.\n",
        "+ [Match|Round] HeadShots: Cantidad de kills efectuados por el jugador a través de un tiro en la cabeza durante\n",
        "la partida o la ronda.\n",
        "+ RoundStartingEquipmentValue: Valor del equipamiento llevado por el jugador al inicio de la ronda.\n",
        "+ TeamStartingEquipmentValue: Valor promedio del equipamiento llevado por el equipo del jugador al inicio de\n",
        "la ronda.\n",
        "+ AvgMatchKillDist: Distancia promedio viajada por el jugador entre kills."
      ],
      "metadata": {
        "id": "tVSZ32vF3_Dh"
      }
    },
    {
      "cell_type": "markdown",
      "source": [
        "### Entendiendo los datos"
      ],
      "metadata": {
        "id": "xESW1I0Juo2D"
      }
    },
    {
      "cell_type": "markdown",
      "source": [
        "### Preparación de los datos\n"
      ],
      "metadata": {
        "id": "0wqASFghu4sq"
      }
    },
    {
      "cell_type": "markdown",
      "source": [
        "## Entrega 2"
      ],
      "metadata": {
        "id": "x2FChHvevVrI"
      }
    },
    {
      "cell_type": "markdown",
      "source": [
        "## Entrega 3"
      ],
      "metadata": {
        "id": "JsPleENzvY_n"
      }
    }
  ]
}